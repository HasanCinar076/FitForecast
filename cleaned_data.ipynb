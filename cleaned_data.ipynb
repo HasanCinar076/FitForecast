{
 "cells": [
  {
   "cell_type": "markdown",
   "id": "3833b911-4b9c-482a-b8fd-4045b18231ce",
   "metadata": {},
   "source": [
    "<h1 style=\"text-align:left;font-size:130%\">\n",
    "    Experimental Software Engineering\n",
    "    <span style=\"float:right\">\n",
    "        2024/2025\n",
    "    </span>\n",
    "</h1>\n",
    "\n",
    "# <center>**Gym Activity** </center>\n",
    "\n",
    "### **<center> Realized by: </center>** \n",
    "<center> Hasan Çinar, Letícia Cascais</center>"
   ]
  },
  {
   "cell_type": "code",
   "execution_count": 150,
   "id": "02f78218-e3e1-43a4-9855-858b1b476377",
   "metadata": {},
   "outputs": [],
   "source": [
    "import pandas as pd\n",
    "import matplotlib.pyplot as plt"
   ]
  },
  {
   "cell_type": "code",
   "execution_count": 120,
   "id": "3e5d4725-0330-439f-be4d-65e910dbc2e7",
   "metadata": {},
   "outputs": [],
   "source": [
    "#Import file\n",
    "data = pd.read_csv('gym_activity.csv', sep = ',')"
   ]
  },
  {
   "cell_type": "code",
   "execution_count": 121,
   "id": "589a6e67-5ada-432d-a1ad-2e46526f1c90",
   "metadata": {},
   "outputs": [
    {
     "data": {
      "text/html": [
       "<div>\n",
       "<style scoped>\n",
       "    .dataframe tbody tr th:only-of-type {\n",
       "        vertical-align: middle;\n",
       "    }\n",
       "\n",
       "    .dataframe tbody tr th {\n",
       "        vertical-align: top;\n",
       "    }\n",
       "\n",
       "    .dataframe thead th {\n",
       "        text-align: right;\n",
       "    }\n",
       "</style>\n",
       "<table border=\"1\" class=\"dataframe\">\n",
       "  <thead>\n",
       "    <tr style=\"text-align: right;\">\n",
       "      <th></th>\n",
       "      <th>Age</th>\n",
       "      <th>Gender</th>\n",
       "      <th>Weight(kg)</th>\n",
       "      <th>Height(m)</th>\n",
       "      <th>Max_BPM</th>\n",
       "      <th>Avg_BPM</th>\n",
       "      <th>Resting_BPM</th>\n",
       "      <th>Session_Duration(hours)</th>\n",
       "      <th>Calories_Burned</th>\n",
       "      <th>Workout_Type</th>\n",
       "      <th>Fat_Percentage</th>\n",
       "      <th>Water_Intake(liters)</th>\n",
       "      <th>Workout_Frequency(days/week)</th>\n",
       "      <th>Experience_Level</th>\n",
       "      <th>BMI</th>\n",
       "    </tr>\n",
       "  </thead>\n",
       "  <tbody>\n",
       "    <tr>\n",
       "      <th>0</th>\n",
       "      <td>56</td>\n",
       "      <td>Male</td>\n",
       "      <td>88.3</td>\n",
       "      <td>1.71</td>\n",
       "      <td>180</td>\n",
       "      <td>157</td>\n",
       "      <td>60</td>\n",
       "      <td>1.69</td>\n",
       "      <td>1313.0</td>\n",
       "      <td>Yoga</td>\n",
       "      <td>12.6</td>\n",
       "      <td>3.5</td>\n",
       "      <td>4</td>\n",
       "      <td>3</td>\n",
       "      <td>30.20</td>\n",
       "    </tr>\n",
       "    <tr>\n",
       "      <th>1</th>\n",
       "      <td>46</td>\n",
       "      <td>Female</td>\n",
       "      <td>74.9</td>\n",
       "      <td>1.53</td>\n",
       "      <td>179</td>\n",
       "      <td>151</td>\n",
       "      <td>66</td>\n",
       "      <td>1.30</td>\n",
       "      <td>883.0</td>\n",
       "      <td>HIIT</td>\n",
       "      <td>33.9</td>\n",
       "      <td>2.1</td>\n",
       "      <td>4</td>\n",
       "      <td>2</td>\n",
       "      <td>32.00</td>\n",
       "    </tr>\n",
       "    <tr>\n",
       "      <th>2</th>\n",
       "      <td>32</td>\n",
       "      <td>Female</td>\n",
       "      <td>68.1</td>\n",
       "      <td>1.66</td>\n",
       "      <td>167</td>\n",
       "      <td>122</td>\n",
       "      <td>54</td>\n",
       "      <td>1.11</td>\n",
       "      <td>677.0</td>\n",
       "      <td>Cardio</td>\n",
       "      <td>33.4</td>\n",
       "      <td>2.3</td>\n",
       "      <td>4</td>\n",
       "      <td>2</td>\n",
       "      <td>24.71</td>\n",
       "    </tr>\n",
       "    <tr>\n",
       "      <th>3</th>\n",
       "      <td>25</td>\n",
       "      <td>Male</td>\n",
       "      <td>53.2</td>\n",
       "      <td>1.70</td>\n",
       "      <td>190</td>\n",
       "      <td>164</td>\n",
       "      <td>56</td>\n",
       "      <td>0.59</td>\n",
       "      <td>532.0</td>\n",
       "      <td>Strength</td>\n",
       "      <td>28.8</td>\n",
       "      <td>2.1</td>\n",
       "      <td>3</td>\n",
       "      <td>1</td>\n",
       "      <td>18.41</td>\n",
       "    </tr>\n",
       "    <tr>\n",
       "      <th>4</th>\n",
       "      <td>38</td>\n",
       "      <td>Male</td>\n",
       "      <td>46.1</td>\n",
       "      <td>1.79</td>\n",
       "      <td>188</td>\n",
       "      <td>158</td>\n",
       "      <td>68</td>\n",
       "      <td>0.64</td>\n",
       "      <td>556.0</td>\n",
       "      <td>Strength</td>\n",
       "      <td>29.2</td>\n",
       "      <td>2.8</td>\n",
       "      <td>3</td>\n",
       "      <td>1</td>\n",
       "      <td>14.39</td>\n",
       "    </tr>\n",
       "  </tbody>\n",
       "</table>\n",
       "</div>"
      ],
      "text/plain": [
       "   Age  Gender  Weight(kg)  Height(m)  Max_BPM  Avg_BPM  Resting_BPM  \\\n",
       "0   56    Male        88.3       1.71      180      157           60   \n",
       "1   46  Female        74.9       1.53      179      151           66   \n",
       "2   32  Female        68.1       1.66      167      122           54   \n",
       "3   25    Male        53.2       1.70      190      164           56   \n",
       "4   38    Male        46.1       1.79      188      158           68   \n",
       "\n",
       "   Session_Duration(hours)  Calories_Burned Workout_Type  Fat_Percentage  \\\n",
       "0                     1.69           1313.0         Yoga            12.6   \n",
       "1                     1.30            883.0         HIIT            33.9   \n",
       "2                     1.11            677.0       Cardio            33.4   \n",
       "3                     0.59            532.0     Strength            28.8   \n",
       "4                     0.64            556.0     Strength            29.2   \n",
       "\n",
       "   Water_Intake(liters)  Workout_Frequency(days/week)  Experience_Level    BMI  \n",
       "0                   3.5                             4                 3  30.20  \n",
       "1                   2.1                             4                 2  32.00  \n",
       "2                   2.3                             4                 2  24.71  \n",
       "3                   2.1                             3                 1  18.41  \n",
       "4                   2.8                             3                 1  14.39  "
      ]
     },
     "execution_count": 121,
     "metadata": {},
     "output_type": "execute_result"
    }
   ],
   "source": [
    "#First five rows of our Dataset\n",
    "data.head()"
   ]
  },
  {
   "cell_type": "code",
   "execution_count": 122,
   "id": "b324cb89-1c0b-4cc8-b9a2-038433b5f8dc",
   "metadata": {},
   "outputs": [
    {
     "data": {
      "text/plain": [
       "973"
      ]
     },
     "execution_count": 122,
     "metadata": {},
     "output_type": "execute_result"
    }
   ],
   "source": [
    "#Number of workout types inside our Dataset\n",
    "data['Workout_Type'].count()"
   ]
  },
  {
   "cell_type": "code",
   "execution_count": 123,
   "id": "8c4b7668-0753-4e6e-95e8-f3f4ea92611d",
   "metadata": {},
   "outputs": [
    {
     "name": "stdout",
     "output_type": "stream",
     "text": [
      "<class 'pandas.core.frame.DataFrame'>\n",
      "RangeIndex: 973 entries, 0 to 972\n",
      "Data columns (total 15 columns):\n",
      " #   Column                        Non-Null Count  Dtype  \n",
      "---  ------                        --------------  -----  \n",
      " 0   Age                           973 non-null    int64  \n",
      " 1   Gender                        973 non-null    object \n",
      " 2   Weight(kg)                    973 non-null    float64\n",
      " 3   Height(m)                     973 non-null    float64\n",
      " 4   Max_BPM                       973 non-null    int64  \n",
      " 5   Avg_BPM                       973 non-null    int64  \n",
      " 6   Resting_BPM                   973 non-null    int64  \n",
      " 7   Session_Duration(hours)       973 non-null    float64\n",
      " 8   Calories_Burned               973 non-null    float64\n",
      " 9   Workout_Type                  973 non-null    object \n",
      " 10  Fat_Percentage                973 non-null    float64\n",
      " 11  Water_Intake(liters)          973 non-null    float64\n",
      " 12  Workout_Frequency(days/week)  973 non-null    int64  \n",
      " 13  Experience_Level              973 non-null    int64  \n",
      " 14  BMI                           973 non-null    float64\n",
      "dtypes: float64(7), int64(6), object(2)\n",
      "memory usage: 114.2+ KB\n"
     ]
    }
   ],
   "source": [
    "#Data that we have in our Dataset and the type of them\n",
    "data.info()"
   ]
  },
  {
   "cell_type": "code",
   "execution_count": 124,
   "id": "f1f5271c-c9ab-40a6-a482-4db04bed01c0",
   "metadata": {},
   "outputs": [
    {
     "name": "stdout",
     "output_type": "stream",
     "text": [
      "              Age  Weight(kg)  Height(m)     Max_BPM     Avg_BPM  Resting_BPM  \\\n",
      "count  973.000000  973.000000  973.00000  973.000000  973.000000   973.000000   \n",
      "mean    38.683453   73.854676    1.72258  179.883864  143.766701    62.223022   \n",
      "std     12.180928   21.207500    0.12772   11.525686   14.345101     7.327060   \n",
      "min     18.000000   40.000000    1.50000  160.000000  120.000000    50.000000   \n",
      "25%     28.000000   58.100000    1.62000  170.000000  131.000000    56.000000   \n",
      "50%     40.000000   70.000000    1.71000  180.000000  143.000000    62.000000   \n",
      "75%     49.000000   86.000000    1.80000  190.000000  156.000000    68.000000   \n",
      "max     59.000000  129.900000    2.00000  199.000000  169.000000    74.000000   \n",
      "\n",
      "       Session_Duration(hours)  Calories_Burned  Fat_Percentage  \\\n",
      "count               973.000000       973.000000      973.000000   \n",
      "mean                  1.256423       905.422405       24.976773   \n",
      "std                   0.343033       272.641516        6.259419   \n",
      "min                   0.500000       303.000000       10.000000   \n",
      "25%                   1.040000       720.000000       21.300000   \n",
      "50%                   1.260000       893.000000       26.200000   \n",
      "75%                   1.460000      1076.000000       29.300000   \n",
      "max                   2.000000      1783.000000       35.000000   \n",
      "\n",
      "       Water_Intake(liters)  Workout_Frequency(days/week)  Experience_Level  \\\n",
      "count            973.000000                    973.000000        973.000000   \n",
      "mean               2.626619                      3.321686          1.809866   \n",
      "std                0.600172                      0.913047          0.739693   \n",
      "min                1.500000                      2.000000          1.000000   \n",
      "25%                2.200000                      3.000000          1.000000   \n",
      "50%                2.600000                      3.000000          2.000000   \n",
      "75%                3.100000                      4.000000          2.000000   \n",
      "max                3.700000                      5.000000          3.000000   \n",
      "\n",
      "              BMI  \n",
      "count  973.000000  \n",
      "mean    24.912127  \n",
      "std      6.660879  \n",
      "min     12.320000  \n",
      "25%     20.110000  \n",
      "50%     24.160000  \n",
      "75%     28.560000  \n",
      "max     49.840000  \n"
     ]
    }
   ],
   "source": [
    "print(data.describe())"
   ]
  },
  {
   "cell_type": "code",
   "execution_count": 125,
   "id": "123811ae-af72-4391-bc9b-ed6d8e1fa195",
   "metadata": {},
   "outputs": [
    {
     "name": "stdout",
     "output_type": "stream",
     "text": [
      "Index(['Age', 'Gender', 'Weight(kg)', 'Height(m)', 'Max_BPM', 'Avg_BPM',\n",
      "       'Resting_BPM', 'Session_Duration(hours)', 'Calories_Burned',\n",
      "       'Workout_Type', 'Fat_Percentage', 'Water_Intake(liters)',\n",
      "       'Workout_Frequency(days/week)', 'Experience_Level', 'BMI'],\n",
      "      dtype='object')\n"
     ]
    }
   ],
   "source": [
    "#Show all the columns in our Dataset\n",
    "print(data.columns)"
   ]
  },
  {
   "cell_type": "code",
   "execution_count": 126,
   "id": "2c8826b6-5a70-4a9a-82c3-32371682fd0b",
   "metadata": {},
   "outputs": [],
   "source": [
    "#Method to put the name of the columns in lowercase and remove the blank spaces\n",
    "def clean_columns(col):\n",
    "    col = col.strip()\n",
    "    col = col.lower()\n",
    "    return col"
   ]
  },
  {
   "cell_type": "code",
   "execution_count": 127,
   "id": "27c0c7e0-c4bc-4925-a2eb-7b8b1fbd526c",
   "metadata": {},
   "outputs": [],
   "source": [
    "#Change the columns name\n",
    "new_columns = []\n",
    "for column in data.columns:\n",
    "    cleaned_column = clean_columns(column)\n",
    "    new_columns.append(cleaned_column.strip())\n",
    "\n",
    "data.columns = new_columns"
   ]
  },
  {
   "cell_type": "code",
   "execution_count": 128,
   "id": "ebf38e64-7506-4fa1-9f82-4967c9de34a0",
   "metadata": {},
   "outputs": [
    {
     "name": "stdout",
     "output_type": "stream",
     "text": [
      "<class 'pandas.core.frame.DataFrame'>\n",
      "RangeIndex: 973 entries, 0 to 972\n",
      "Data columns (total 15 columns):\n",
      " #   Column                        Non-Null Count  Dtype  \n",
      "---  ------                        --------------  -----  \n",
      " 0   age                           973 non-null    int64  \n",
      " 1   gender                        973 non-null    object \n",
      " 2   weight(kg)                    973 non-null    float64\n",
      " 3   height(m)                     973 non-null    float64\n",
      " 4   max_bpm                       973 non-null    int64  \n",
      " 5   avg_bpm                       973 non-null    int64  \n",
      " 6   resting_bpm                   973 non-null    int64  \n",
      " 7   session_duration(hours)       973 non-null    float64\n",
      " 8   calories_burned               973 non-null    float64\n",
      " 9   workout_type                  973 non-null    object \n",
      " 10  fat_percentage                973 non-null    float64\n",
      " 11  water_intake(liters)          973 non-null    float64\n",
      " 12  workout_frequency(days/week)  973 non-null    int64  \n",
      " 13  experience_level              973 non-null    int64  \n",
      " 14  bmi                           973 non-null    float64\n",
      "dtypes: float64(7), int64(6), object(2)\n",
      "memory usage: 114.2+ KB\n"
     ]
    }
   ],
   "source": [
    "#Discover information about our Dataset\n",
    "data.info()"
   ]
  },
  {
   "cell_type": "code",
   "execution_count": 129,
   "id": "c4c27092-d4e6-4fc3-8767-0014566f129c",
   "metadata": {},
   "outputs": [
    {
     "name": "stdout",
     "output_type": "stream",
     "text": [
      "age                             0\n",
      "gender                          0\n",
      "weight(kg)                      0\n",
      "height(m)                       0\n",
      "max_bpm                         0\n",
      "avg_bpm                         0\n",
      "resting_bpm                     0\n",
      "session_duration(hours)         0\n",
      "calories_burned                 0\n",
      "workout_type                    0\n",
      "fat_percentage                  0\n",
      "water_intake(liters)            0\n",
      "workout_frequency(days/week)    0\n",
      "experience_level                0\n",
      "bmi                             0\n",
      "dtype: int64\n"
     ]
    }
   ],
   "source": [
    "#Print to know the null values\n",
    "print(data.isnull().sum())"
   ]
  },
  {
   "cell_type": "markdown",
   "id": "8b67020a-a098-4407-8f85-c2ae5a127311",
   "metadata": {},
   "source": [
    "As shown above, in our Dataset we **don't have null values**."
   ]
  },
  {
   "cell_type": "code",
   "execution_count": 130,
   "id": "72db0d59-9f64-461a-84c2-b318993a9be0",
   "metadata": {},
   "outputs": [
    {
     "name": "stdout",
     "output_type": "stream",
     "text": [
      "0\n"
     ]
    }
   ],
   "source": [
    "duplicates = data.duplicated()\n",
    "print(len(data[duplicates]))"
   ]
  },
  {
   "cell_type": "code",
   "execution_count": 131,
   "id": "ca47cac9-c1ea-403f-883b-b33cf7ea11d2",
   "metadata": {},
   "outputs": [
    {
     "data": {
      "text/plain": [
       "(973, 15)"
      ]
     },
     "execution_count": 131,
     "metadata": {},
     "output_type": "execute_result"
    }
   ],
   "source": [
    "data.shape"
   ]
  },
  {
   "cell_type": "markdown",
   "id": "58bcb0b1-9d34-46b2-a3ba-768430ea7103",
   "metadata": {},
   "source": [
    "## <center>Columns Name</center>"
   ]
  },
  {
   "cell_type": "code",
   "execution_count": 132,
   "id": "fb911690-ca52-4425-a9f4-12ceb161293a",
   "metadata": {},
   "outputs": [],
   "source": [
    "#Rename columns to indicate the unit of measurement\n",
    "data.rename({\"Age\": \"age\"}, axis=1, inplace=True)\n",
    "data.rename({\"Gender\": \"gender\"}, axis=1, inplace=True)\n",
    "data.rename({\"weight(kg)\": \"weight_kg\"}, axis=1, inplace=True)\n",
    "data.rename({\"height(m)\": \"height_m\"}, axis=1, inplace=True)\n",
    "data.rename({\"Max_BPM\": \"max_bpm\"}, axis=1, inplace=True)\n",
    "data.rename({\"Avg_BPM\": \"avg_bpm\"}, axis=1, inplace=True)\n",
    "data.rename({\"Resting_BPM\": \"resting_bpm\"}, axis=1, inplace=True)\n",
    "data.rename({\"session_duration(hours)\": \"duration_h\"}, axis=1, inplace=True)\n",
    "data.rename({\"Calories_Burned\": \"calories_burned\"}, axis=1, inplace=True)\n",
    "data.rename({\"Workout_Type\": \"workout\"}, axis=1, inplace=True)\n",
    "data.rename({\"Fat_Percentage\": \"fat_percentage\"}, axis=1, inplace=True)\n",
    "data.rename({\"Workout_Type\": \"workout\"}, axis=1, inplace=True)\n",
    "data.rename({\"Fat_Percentage\": \"fat_percentage\"}, axis=1, inplace=True)\n",
    "data.rename({\"water_intake(liters)\": \"water_l\"}, axis=1, inplace=True)\n",
    "data.rename({\"workout_frequency(days/week)\": \"workout_frequency_daysweek\"}, axis=1, inplace=True)\n",
    "data.rename({\"Experience_Level\": \"experience_lever\"}, axis=1, inplace=True)\n",
    "data.rename({\"BMI\": \"bmi\"}, axis=1, inplace=True)"
   ]
  },
  {
   "cell_type": "code",
   "execution_count": 133,
   "id": "f9886d85-f22d-4cc1-b277-f39385fecdd5",
   "metadata": {},
   "outputs": [
    {
     "data": {
      "text/plain": [
       "Index(['age', 'gender', 'weight_kg', 'height_m', 'max_bpm', 'avg_bpm',\n",
       "       'resting_bpm', 'duration_h', 'calories_burned', 'workout_type',\n",
       "       'fat_percentage', 'water_l', 'workout_frequency_daysweek',\n",
       "       'experience_level', 'bmi'],\n",
       "      dtype='object')"
      ]
     },
     "execution_count": 133,
     "metadata": {},
     "output_type": "execute_result"
    }
   ],
   "source": [
    "#Show all the columns with the names renamed\n",
    "data.columns"
   ]
  },
  {
   "cell_type": "markdown",
   "id": "200743c7-cefa-48aa-b9e5-e1c3c50e7185",
   "metadata": {},
   "source": [
    "Above we have **all the columns names** in our dataset."
   ]
  },
  {
   "cell_type": "code",
   "execution_count": 134,
   "id": "e40a5984-4d3a-4c5c-86aa-0b1920f52ba7",
   "metadata": {},
   "outputs": [
    {
     "data": {
      "text/plain": [
       "age                             int64\n",
       "gender                         object\n",
       "weight_kg                     float64\n",
       "height_m                      float64\n",
       "max_bpm                         int64\n",
       "avg_bpm                         int64\n",
       "resting_bpm                     int64\n",
       "duration_h                    float64\n",
       "calories_burned               float64\n",
       "workout_type                   object\n",
       "fat_percentage                float64\n",
       "water_l                       float64\n",
       "workout_frequency_daysweek      int64\n",
       "experience_level                int64\n",
       "bmi                           float64\n",
       "dtype: object"
      ]
     },
     "execution_count": 134,
     "metadata": {},
     "output_type": "execute_result"
    }
   ],
   "source": [
    "#Show dtypes of each column\n",
    "data.dtypes"
   ]
  },
  {
   "cell_type": "code",
   "execution_count": 135,
   "id": "fd000795-d623-4344-8372-c65762354df5",
   "metadata": {},
   "outputs": [
    {
     "name": "stdout",
     "output_type": "stream",
     "text": [
      "`age` dtype: int64\n",
      "`age` dtype: int32\n",
      "age                             int32\n",
      "gender                         object\n",
      "weight_kg                     float64\n",
      "height_m                      float64\n",
      "max_bpm                         int64\n",
      "avg_bpm                         int64\n",
      "resting_bpm                     int64\n",
      "duration_h                    float64\n",
      "calories_burned               float64\n",
      "workout_type                   object\n",
      "fat_percentage                float64\n",
      "water_l                       float64\n",
      "workout_frequency_daysweek      int64\n",
      "experience_level                int64\n",
      "bmi                           float64\n",
      "dtype: object\n"
     ]
    }
   ],
   "source": [
    "#Show age dtype\n",
    "print(\"`age` dtype:\", data[\"age\"].dtype)\n",
    "\n",
    "#Change dtype of the column age\n",
    "data[\"age\"] = data[\"age\"].astype(int)\n",
    "\n",
    "#Verifying if the change worked well\n",
    "print(\"`age` dtype:\", data[\"age\"].dtype)\n",
    "\n",
    "#Show all the columns with the dtypes changes\n",
    "print(data.dtypes)"
   ]
  },
  {
   "cell_type": "code",
   "execution_count": 136,
   "id": "5cd57c9f-65c0-4f83-9dc3-8e1eb05f65fd",
   "metadata": {},
   "outputs": [
    {
     "name": "stdout",
     "output_type": "stream",
     "text": [
      "['Yoga' 'HIIT' 'Cardio' 'Strength']\n"
     ]
    }
   ],
   "source": [
    "#Print the workout types\n",
    "unique_workout = data[\"workout_type\"].unique()\n",
    "print(unique_workout)"
   ]
  },
  {
   "cell_type": "markdown",
   "id": "d7d89b34-ec25-499a-ae91-82f0aa114d7a",
   "metadata": {},
   "source": [
    "Above we have **all the workout types** in our dataset."
   ]
  },
  {
   "cell_type": "code",
   "execution_count": 137,
   "id": "94251291-f160-4695-bf58-bfe77f05ec68",
   "metadata": {},
   "outputs": [
    {
     "name": "stdout",
     "output_type": "stream",
     "text": [
      "[3 2 1]\n"
     ]
    }
   ],
   "source": [
    "#Print the Experience levels\n",
    "unique_experience = data[\"experience_level\"].unique()\n",
    "print(unique_experience)"
   ]
  },
  {
   "cell_type": "markdown",
   "id": "2f6da923-cb52-4794-93c3-0be8f94bba0c",
   "metadata": {},
   "source": [
    "Above we have **all the experience levels** in our dataset."
   ]
  },
  {
   "cell_type": "code",
   "execution_count": 138,
   "id": "ba7277d3-dd93-4135-9bcf-b30ae3941d08",
   "metadata": {},
   "outputs": [
    {
     "name": "stdout",
     "output_type": "stream",
     "text": [
      "['Male' 'Female']\n"
     ]
    }
   ],
   "source": [
    "#Print the gender\n",
    "unique_gender = data[\"gender\"].unique()\n",
    "print(unique_gender)"
   ]
  },
  {
   "cell_type": "markdown",
   "id": "b59afed3-8e1f-44ba-8bec-4f48dd97b5e1",
   "metadata": {},
   "source": [
    "Above we have **all the genders** in our dataset."
   ]
  },
  {
   "cell_type": "markdown",
   "id": "6c8b1c04-9e1d-429f-b92c-6345f71baef9",
   "metadata": {},
   "source": [
    "## <center>Convert Gender and Workout Type</center>"
   ]
  },
  {
   "cell_type": "code",
   "execution_count": 140,
   "id": "d7d064da-5a5e-4e0f-bc8c-a12206044bea",
   "metadata": {},
   "outputs": [
    {
     "name": "stdout",
     "output_type": "stream",
     "text": [
      "['Male' 'Female']\n"
     ]
    }
   ],
   "source": [
    "#Print the gender\n",
    "unique_gender = data[\"gender\"].unique()\n",
    "print(unique_gender)"
   ]
  },
  {
   "cell_type": "code",
   "execution_count": 141,
   "id": "01a89838-56ee-4c3e-a2a7-1d65691d60b3",
   "metadata": {},
   "outputs": [
    {
     "name": "stdout",
     "output_type": "stream",
     "text": [
      "['Yoga' 'HIIT' 'Cardio' 'Strength']\n"
     ]
    }
   ],
   "source": [
    "#Print the workout types\n",
    "unique_workout = data[\"workout_type\"].unique()\n",
    "print(unique_workout)"
   ]
  },
  {
   "cell_type": "code",
   "execution_count": 143,
   "id": "e1be8726-7d57-493d-9340-adcaebe45441",
   "metadata": {},
   "outputs": [
    {
     "name": "stdout",
     "output_type": "stream",
     "text": [
      "   workout_type\n",
      "0             0\n",
      "1             1\n",
      "2             2\n",
      "3             3\n"
     ]
    }
   ],
   "source": [
    "#Convert workout_type to numerical values: Yoga = 0, HIIT = 1, Cardio = 2, Strength = 3\n",
    "workout_mapping = {'Yoga': 0, 'HIIT': 1, 'Cardio': 2, 'Strength': 3}\n",
    "data['workout_type'] = data['workout_type'].map(workout_mapping)\n",
    "\n",
    "#Verify the conversion\n",
    "print(data[['workout_type']].head(4))"
   ]
  },
  {
   "cell_type": "code",
   "execution_count": 145,
   "id": "79495271-4bb5-4db9-b226-2008143ae637",
   "metadata": {},
   "outputs": [
    {
     "name": "stdout",
     "output_type": "stream",
     "text": [
      "   gender\n",
      "0       1\n",
      "1       0\n",
      "2       0\n",
      "3       1\n"
     ]
    }
   ],
   "source": [
    "#Convert Gender to numerical values: Male = 1, Female = 0\n",
    "data['gender'] = data['gender'].map({'Male': 1, 'Female': 0})\n",
    "\n",
    "#Verify the conversion\n",
    "print(data[['gender']].head(4))"
   ]
  },
  {
   "cell_type": "code",
   "execution_count": 146,
   "id": "53f30fbc-3a33-4060-afea-6e0827972ee7",
   "metadata": {},
   "outputs": [
    {
     "data": {
      "text/html": [
       "<div>\n",
       "<style scoped>\n",
       "    .dataframe tbody tr th:only-of-type {\n",
       "        vertical-align: middle;\n",
       "    }\n",
       "\n",
       "    .dataframe tbody tr th {\n",
       "        vertical-align: top;\n",
       "    }\n",
       "\n",
       "    .dataframe thead th {\n",
       "        text-align: right;\n",
       "    }\n",
       "</style>\n",
       "<table border=\"1\" class=\"dataframe\">\n",
       "  <thead>\n",
       "    <tr style=\"text-align: right;\">\n",
       "      <th></th>\n",
       "      <th>age</th>\n",
       "      <th>gender</th>\n",
       "      <th>weight_kg</th>\n",
       "      <th>height_m</th>\n",
       "      <th>max_bpm</th>\n",
       "      <th>avg_bpm</th>\n",
       "      <th>resting_bpm</th>\n",
       "      <th>duration_h</th>\n",
       "      <th>calories_burned</th>\n",
       "      <th>workout_type</th>\n",
       "      <th>fat_percentage</th>\n",
       "      <th>water_l</th>\n",
       "      <th>workout_frequency_daysweek</th>\n",
       "      <th>experience_level</th>\n",
       "      <th>bmi</th>\n",
       "    </tr>\n",
       "  </thead>\n",
       "  <tbody>\n",
       "    <tr>\n",
       "      <th>0</th>\n",
       "      <td>56</td>\n",
       "      <td>1</td>\n",
       "      <td>88.3</td>\n",
       "      <td>1.71</td>\n",
       "      <td>180</td>\n",
       "      <td>157</td>\n",
       "      <td>60</td>\n",
       "      <td>1.69</td>\n",
       "      <td>1313.0</td>\n",
       "      <td>0</td>\n",
       "      <td>12.6</td>\n",
       "      <td>3.5</td>\n",
       "      <td>4</td>\n",
       "      <td>3</td>\n",
       "      <td>30.20</td>\n",
       "    </tr>\n",
       "    <tr>\n",
       "      <th>1</th>\n",
       "      <td>46</td>\n",
       "      <td>0</td>\n",
       "      <td>74.9</td>\n",
       "      <td>1.53</td>\n",
       "      <td>179</td>\n",
       "      <td>151</td>\n",
       "      <td>66</td>\n",
       "      <td>1.30</td>\n",
       "      <td>883.0</td>\n",
       "      <td>1</td>\n",
       "      <td>33.9</td>\n",
       "      <td>2.1</td>\n",
       "      <td>4</td>\n",
       "      <td>2</td>\n",
       "      <td>32.00</td>\n",
       "    </tr>\n",
       "    <tr>\n",
       "      <th>2</th>\n",
       "      <td>32</td>\n",
       "      <td>0</td>\n",
       "      <td>68.1</td>\n",
       "      <td>1.66</td>\n",
       "      <td>167</td>\n",
       "      <td>122</td>\n",
       "      <td>54</td>\n",
       "      <td>1.11</td>\n",
       "      <td>677.0</td>\n",
       "      <td>2</td>\n",
       "      <td>33.4</td>\n",
       "      <td>2.3</td>\n",
       "      <td>4</td>\n",
       "      <td>2</td>\n",
       "      <td>24.71</td>\n",
       "    </tr>\n",
       "    <tr>\n",
       "      <th>3</th>\n",
       "      <td>25</td>\n",
       "      <td>1</td>\n",
       "      <td>53.2</td>\n",
       "      <td>1.70</td>\n",
       "      <td>190</td>\n",
       "      <td>164</td>\n",
       "      <td>56</td>\n",
       "      <td>0.59</td>\n",
       "      <td>532.0</td>\n",
       "      <td>3</td>\n",
       "      <td>28.8</td>\n",
       "      <td>2.1</td>\n",
       "      <td>3</td>\n",
       "      <td>1</td>\n",
       "      <td>18.41</td>\n",
       "    </tr>\n",
       "    <tr>\n",
       "      <th>4</th>\n",
       "      <td>38</td>\n",
       "      <td>1</td>\n",
       "      <td>46.1</td>\n",
       "      <td>1.79</td>\n",
       "      <td>188</td>\n",
       "      <td>158</td>\n",
       "      <td>68</td>\n",
       "      <td>0.64</td>\n",
       "      <td>556.0</td>\n",
       "      <td>3</td>\n",
       "      <td>29.2</td>\n",
       "      <td>2.8</td>\n",
       "      <td>3</td>\n",
       "      <td>1</td>\n",
       "      <td>14.39</td>\n",
       "    </tr>\n",
       "  </tbody>\n",
       "</table>\n",
       "</div>"
      ],
      "text/plain": [
       "   age  gender  weight_kg  height_m  max_bpm  avg_bpm  resting_bpm  \\\n",
       "0   56       1       88.3      1.71      180      157           60   \n",
       "1   46       0       74.9      1.53      179      151           66   \n",
       "2   32       0       68.1      1.66      167      122           54   \n",
       "3   25       1       53.2      1.70      190      164           56   \n",
       "4   38       1       46.1      1.79      188      158           68   \n",
       "\n",
       "   duration_h  calories_burned  workout_type  fat_percentage  water_l  \\\n",
       "0        1.69           1313.0             0            12.6      3.5   \n",
       "1        1.30            883.0             1            33.9      2.1   \n",
       "2        1.11            677.0             2            33.4      2.3   \n",
       "3        0.59            532.0             3            28.8      2.1   \n",
       "4        0.64            556.0             3            29.2      2.8   \n",
       "\n",
       "   workout_frequency_daysweek  experience_level    bmi  \n",
       "0                           4                 3  30.20  \n",
       "1                           4                 2  32.00  \n",
       "2                           4                 2  24.71  \n",
       "3                           3                 1  18.41  \n",
       "4                           3                 1  14.39  "
      ]
     },
     "execution_count": 146,
     "metadata": {},
     "output_type": "execute_result"
    }
   ],
   "source": [
    "data.head()"
   ]
  },
  {
   "cell_type": "markdown",
   "id": "6ba455ff-93c6-4a22-96bf-864c12c421b6",
   "metadata": {},
   "source": [
    "Above we can see the changes in our dataset."
   ]
  },
  {
   "cell_type": "markdown",
   "id": "7da6886e-c262-49c9-9288-d7fce8f2b13d",
   "metadata": {},
   "source": [
    "## <center>Outliers</center>"
   ]
  },
  {
   "cell_type": "markdown",
   "id": "70fd2529-9b77-4772-9aab-b569f508672a",
   "metadata": {},
   "source": [
    "Outliers are extreme or atypical values that differ significantly from the majority of the data in a dataset. They can arise due to natural variations, measurement errors, incorrect data entry or other anomalies. These values are usually outside the expected range or are defined by statistical metrics, such as the interquartile range (IQR), or by standard deviations from the mean."
   ]
  },
  {
   "cell_type": "markdown",
   "id": "79075cdd-6a2e-4b5e-8e46-cbaa8cb249dc",
   "metadata": {},
   "source": [
    "Outliers **must be removed** because they can distort the statistical analysis and negatively affect the quality of the results. They influence metrics such as the average, deviating it from representative values, and artificially increase the variance, compromising the interpretation of the data. In addition, many analytical and machine learning models are sensitive to extreme values, which can lead to incorrect predictions and models that are not very robust. In many cases, extreme values represent measurement errors, incorrect data entry or anomalies, which do not reflect the real behavior of the data set. Removing these values helps to ensure consistency, accuracy and relevance, making it possible to identify clearer and more reliable overall patterns in the data analyzed."
   ]
  },
  {
   "cell_type": "code",
   "execution_count": 149,
   "id": "940c2c90-4558-4c5c-b311-3e7453d2b262",
   "metadata": {},
   "outputs": [
    {
     "data": {
      "text/plain": [
       "(973, 15)"
      ]
     },
     "execution_count": 149,
     "metadata": {},
     "output_type": "execute_result"
    }
   ],
   "source": [
    "data.shape"
   ]
  },
  {
   "cell_type": "code",
   "execution_count": 152,
   "id": "03fe7c20-eb50-44da-817d-045e93397b57",
   "metadata": {},
   "outputs": [
    {
     "data": {
      "image/png": "[encoded data removed]",
      "text/plain": [
       "<Figure size 800x400 with 1 Axes>"
      ]
     },
     "metadata": {},
     "output_type": "display_data"
    },
    {
     "data": {
      "image/png": "[encoded data removed]",
      "text/plain": [
       "<Figure size 800x400 with 1 Axes>"
      ]
     },
     "metadata": {},
     "output_type": "display_data"
    },
    {
     "data": {
      "image/png": "[encoded data removed]",
      "text/plain": [
       "<Figure size 800x400 with 1 Axes>"
      ]
     },
     "metadata": {},
     "output_type": "display_data"
    },
    {
     "data": {
      "image/png": "[encoded data removed]",
      "text/plain": [
       "<Figure size 800x400 with 1 Axes>"
      ]
     },
     "metadata": {},
     "output_type": "display_data"
    },
    {
     "data": {
      "image/png": "[encoded data removed]",
      "text/plain": [
       "<Figure size 800x400 with 1 Axes>"
      ]
     },
     "metadata": {},
     "output_type": "display_data"
    },
    {
     "data": {
      "image/png": "[encoded data removed]",
      "text/plain": [
       "<Figure size 800x400 with 1 Axes>"
      ]
     },
     "metadata": {},
     "output_type": "display_data"
    },
    {
     "data": {
      "image/png": "[encoded data removed]",
      "text/plain": [
       "<Figure size 800x400 with 1 Axes>"
      ]
     },
     "metadata": {},
     "output_type": "display_data"
    },
    {
     "data": {
      "image/png": "[encoded data removed]",
      "text/plain": [
       "<Figure size 800x400 with 1 Axes>"
      ]
     },
     "metadata": {},
     "output_type": "display_data"
    },
    {
     "data": {
      "image/png": "[encoded data removed]",
      "text/plain": [
       "<Figure size 800x400 with 1 Axes>"
      ]
     },
     "metadata": {},
     "output_type": "display_data"
    },
    {
     "data": {
      "image/png": "[encoded data removed]",
      "text/plain": [
       "<Figure size 800x400 with 1 Axes>"
      ]
     },
     "metadata": {},
     "output_type": "display_data"
    },
    {
     "data": {
      "image/png": "[encoded data removed]",
      "text/plain": [
       "<Figure size 800x400 with 1 Axes>"
      ]
     },
     "metadata": {},
     "output_type": "display_data"
    },
    {
     "data": {
      "image/png": "[encoded data removed]",
      "text/plain": [
       "<Figure size 800x400 with 1 Axes>"
      ]
     },
     "metadata": {},
     "output_type": "display_data"
    }
   ],
   "source": [
    "#List of numerical columns to check for outliers\n",
    "numerical_columns = [\n",
    "    'age', 'weight_kg', 'height_m', 'max_bpm', 'avg_bpm', 'resting_bpm',\n",
    "    'duration_h', 'calories_burned', 'fat_percentage', 'water_l', \n",
    "    'workout_frequency_daysweek', 'bmi'\n",
    "]\n",
    "\n",
    "for column in numerical_columns:\n",
    "    #Compute IQR-based thresholds for outlier detection\n",
    "    Q1, Q3 = data[column].quantile([0.25, 0.75])\n",
    "    IQR = Q3 - Q1\n",
    "    lower_bound, upper_bound = Q1 - 1.5 * IQR, Q3 + 1.5 * IQR\n",
    "    \n",
    "    #Plot the boxplot\n",
    "    plt.figure(figsize=(8, 4))\n",
    "    plt.boxplot(data[column], vert=False)\n",
    "    plt.title(f'Boxplot for {column}')\n",
    "    plt.xlabel(column)\n",
    "    plt.show()\n",
    "    \n",
    "    #Remove outliers\n",
    "    data = data[(data[column] >= lower_bound) & (data[column] <= upper_bound)]"
   ]
  },
  {
   "cell_type": "code",
   "execution_count": 154,
   "id": "ad3093e2-c4d8-4f88-a54f-e82096adc6fa",
   "metadata": {},
   "outputs": [
    {
     "data": {
      "text/plain": [
       "(931, 15)"
      ]
     },
     "execution_count": 154,
     "metadata": {},
     "output_type": "execute_result"
    }
   ],
   "source": [
    "#Display final shape of the dataset after removing outliers\n",
    "data.shape"
   ]
  },
  {
   "cell_type": "markdown",
   "id": "91644dba-3d12-438d-b864-c21d022dca19",
   "metadata": {},
   "source": [
    "After removing the outliers, **the data set was reduced to 931 lines**. This reduction occurred because the outliers, which did not fall within the limits defined by the interquartile range (IQR) method, were excluded. "
   ]
  },
  {
   "cell_type": "code",
   "execution_count": 155,
   "id": "0bac6490-7920-4982-a20f-4d2755421cc4",
   "metadata": {},
   "outputs": [],
   "source": [
    "#Code to export our cleaned Dataset\n",
    "data.to_csv(\"gym_activity_cleaned.csv\", index=False)"
   ]
  }
 ],
 "metadata": {
  "kernelspec": {
   "display_name": "Python 3 (ipykernel)",
   "language": "python",
   "name": "python3"
  },
  "language_info": {
   "codemirror_mode": {
    "name": "ipython",
    "version": 3
   },
   "file_extension": ".py",
   "mimetype": "text/x-python",
   "name": "python",
   "nbconvert_exporter": "python",
   "pygments_lexer": "ipython3",
   "version": "3.11.7"
  }
 },
 "nbformat": 4,
 "nbformat_minor": 5
}
