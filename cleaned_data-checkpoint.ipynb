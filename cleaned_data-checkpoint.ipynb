{
 "cells": [
  {
   "cell_type": "markdown",
   "id": "3833b911-4b9c-482a-b8fd-4045b18231ce",
   "metadata": {},
   "source": [
    "<h1 style=\"text-align:left;font-size:130%\">\n",
    "    Experimental Software Engineering\n",
    "    <span style=\"float:right\">\n",
    "        2024/2025\n",
    "    </span>\n",
    "</h1>\n",
    "\n",
    "# <center>**Gym Activity** </center>\n",
    "\n",
    "### **<center> Realized by: </center>** \n",
    "<center> Hasan Çinar, Letícia Cascais</center>"
   ]
  },
  {
   "cell_type": "code",
   "execution_count": 40,
   "id": "02f78218-e3e1-43a4-9855-858b1b476377",
   "metadata": {},
   "outputs": [],
   "source": [
    "import pandas as pd"
   ]
  },
  {
   "cell_type": "code",
   "execution_count": 41,
   "id": "3e5d4725-0330-439f-be4d-65e910dbc2e7",
   "metadata": {},
   "outputs": [],
   "source": [
    "#Import file\n",
    "data = pd.read_csv('gym_activity.csv', sep = ',')"
   ]
  },
  {
   "cell_type": "code",
   "execution_count": 42,
   "id": "589a6e67-5ada-432d-a1ad-2e46526f1c90",
   "metadata": {},
   "outputs": [
    {
     "data": {
      "text/html": [
       "<div>\n",
       "<style scoped>\n",
       "    .dataframe tbody tr th:only-of-type {\n",
       "        vertical-align: middle;\n",
       "    }\n",
       "\n",
       "    .dataframe tbody tr th {\n",
       "        vertical-align: top;\n",
       "    }\n",
       "\n",
       "    .dataframe thead th {\n",
       "        text-align: right;\n",
       "    }\n",
       "</style>\n",
       "<table border=\"1\" class=\"dataframe\">\n",
       "  <thead>\n",
       "    <tr style=\"text-align: right;\">\n",
       "      <th></th>\n",
       "      <th>Age</th>\n",
       "      <th>Gender</th>\n",
       "      <th>Weight(kg)</th>\n",
       "      <th>Height(m)</th>\n",
       "      <th>Max_BPM</th>\n",
       "      <th>Avg_BPM</th>\n",
       "      <th>Resting_BPM</th>\n",
       "      <th>Session_Duration(hours)</th>\n",
       "      <th>Calories_Burned</th>\n",
       "      <th>Workout_Type</th>\n",
       "      <th>Fat_Percentage</th>\n",
       "      <th>Water_Intake(liters)</th>\n",
       "      <th>Workout_Frequency(days/week)</th>\n",
       "      <th>Experience_Level</th>\n",
       "      <th>BMI</th>\n",
       "    </tr>\n",
       "  </thead>\n",
       "  <tbody>\n",
       "    <tr>\n",
       "      <th>0</th>\n",
       "      <td>56</td>\n",
       "      <td>Male</td>\n",
       "      <td>88.3</td>\n",
       "      <td>1.71</td>\n",
       "      <td>180</td>\n",
       "      <td>157</td>\n",
       "      <td>60</td>\n",
       "      <td>1.69</td>\n",
       "      <td>1313.0</td>\n",
       "      <td>Yoga</td>\n",
       "      <td>12.6</td>\n",
       "      <td>3.5</td>\n",
       "      <td>4</td>\n",
       "      <td>3</td>\n",
       "      <td>30.20</td>\n",
       "    </tr>\n",
       "    <tr>\n",
       "      <th>1</th>\n",
       "      <td>46</td>\n",
       "      <td>Female</td>\n",
       "      <td>74.9</td>\n",
       "      <td>1.53</td>\n",
       "      <td>179</td>\n",
       "      <td>151</td>\n",
       "      <td>66</td>\n",
       "      <td>1.30</td>\n",
       "      <td>883.0</td>\n",
       "      <td>HIIT</td>\n",
       "      <td>33.9</td>\n",
       "      <td>2.1</td>\n",
       "      <td>4</td>\n",
       "      <td>2</td>\n",
       "      <td>32.00</td>\n",
       "    </tr>\n",
       "    <tr>\n",
       "      <th>2</th>\n",
       "      <td>32</td>\n",
       "      <td>Female</td>\n",
       "      <td>68.1</td>\n",
       "      <td>1.66</td>\n",
       "      <td>167</td>\n",
       "      <td>122</td>\n",
       "      <td>54</td>\n",
       "      <td>1.11</td>\n",
       "      <td>677.0</td>\n",
       "      <td>Cardio</td>\n",
       "      <td>33.4</td>\n",
       "      <td>2.3</td>\n",
       "      <td>4</td>\n",
       "      <td>2</td>\n",
       "      <td>24.71</td>\n",
       "    </tr>\n",
       "    <tr>\n",
       "      <th>3</th>\n",
       "      <td>25</td>\n",
       "      <td>Male</td>\n",
       "      <td>53.2</td>\n",
       "      <td>1.70</td>\n",
       "      <td>190</td>\n",
       "      <td>164</td>\n",
       "      <td>56</td>\n",
       "      <td>0.59</td>\n",
       "      <td>532.0</td>\n",
       "      <td>Strength</td>\n",
       "      <td>28.8</td>\n",
       "      <td>2.1</td>\n",
       "      <td>3</td>\n",
       "      <td>1</td>\n",
       "      <td>18.41</td>\n",
       "    </tr>\n",
       "    <tr>\n",
       "      <th>4</th>\n",
       "      <td>38</td>\n",
       "      <td>Male</td>\n",
       "      <td>46.1</td>\n",
       "      <td>1.79</td>\n",
       "      <td>188</td>\n",
       "      <td>158</td>\n",
       "      <td>68</td>\n",
       "      <td>0.64</td>\n",
       "      <td>556.0</td>\n",
       "      <td>Strength</td>\n",
       "      <td>29.2</td>\n",
       "      <td>2.8</td>\n",
       "      <td>3</td>\n",
       "      <td>1</td>\n",
       "      <td>14.39</td>\n",
       "    </tr>\n",
       "  </tbody>\n",
       "</table>\n",
       "</div>"
      ],
      "text/plain": [
       "   Age  Gender  Weight(kg)  Height(m)  Max_BPM  Avg_BPM  Resting_BPM  \\\n",
       "0   56    Male        88.3       1.71      180      157           60   \n",
       "1   46  Female        74.9       1.53      179      151           66   \n",
       "2   32  Female        68.1       1.66      167      122           54   \n",
       "3   25    Male        53.2       1.70      190      164           56   \n",
       "4   38    Male        46.1       1.79      188      158           68   \n",
       "\n",
       "   Session_Duration(hours)  Calories_Burned Workout_Type  Fat_Percentage  \\\n",
       "0                     1.69           1313.0         Yoga            12.6   \n",
       "1                     1.30            883.0         HIIT            33.9   \n",
       "2                     1.11            677.0       Cardio            33.4   \n",
       "3                     0.59            532.0     Strength            28.8   \n",
       "4                     0.64            556.0     Strength            29.2   \n",
       "\n",
       "   Water_Intake(liters)  Workout_Frequency(days/week)  Experience_Level    BMI  \n",
       "0                   3.5                             4                 3  30.20  \n",
       "1                   2.1                             4                 2  32.00  \n",
       "2                   2.3                             4                 2  24.71  \n",
       "3                   2.1                             3                 1  18.41  \n",
       "4                   2.8                             3                 1  14.39  "
      ]
     },
     "execution_count": 42,
     "metadata": {},
     "output_type": "execute_result"
    }
   ],
   "source": [
    "#First five rows of our Dataset\n",
    "data.head()"
   ]
  },
  {
   "cell_type": "code",
   "execution_count": 43,
   "id": "b324cb89-1c0b-4cc8-b9a2-038433b5f8dc",
   "metadata": {},
   "outputs": [
    {
     "data": {
      "text/plain": [
       "973"
      ]
     },
     "execution_count": 43,
     "metadata": {},
     "output_type": "execute_result"
    }
   ],
   "source": [
    "#Number of workout types inside our Dataset\n",
    "data['Workout_Type'].count()"
   ]
  },
  {
   "cell_type": "code",
   "execution_count": 44,
   "id": "8c4b7668-0753-4e6e-95e8-f3f4ea92611d",
   "metadata": {},
   "outputs": [
    {
     "name": "stdout",
     "output_type": "stream",
     "text": [
      "<class 'pandas.core.frame.DataFrame'>\n",
      "RangeIndex: 973 entries, 0 to 972\n",
      "Data columns (total 15 columns):\n",
      " #   Column                        Non-Null Count  Dtype  \n",
      "---  ------                        --------------  -----  \n",
      " 0   Age                           973 non-null    int64  \n",
      " 1   Gender                        973 non-null    object \n",
      " 2   Weight(kg)                    973 non-null    float64\n",
      " 3   Height(m)                     973 non-null    float64\n",
      " 4   Max_BPM                       973 non-null    int64  \n",
      " 5   Avg_BPM                       973 non-null    int64  \n",
      " 6   Resting_BPM                   973 non-null    int64  \n",
      " 7   Session_Duration(hours)       973 non-null    float64\n",
      " 8   Calories_Burned               973 non-null    float64\n",
      " 9   Workout_Type                  973 non-null    object \n",
      " 10  Fat_Percentage                973 non-null    float64\n",
      " 11  Water_Intake(liters)          973 non-null    float64\n",
      " 12  Workout_Frequency(days/week)  973 non-null    int64  \n",
      " 13  Experience_Level              973 non-null    int64  \n",
      " 14  BMI                           973 non-null    float64\n",
      "dtypes: float64(7), int64(6), object(2)\n",
      "memory usage: 114.2+ KB\n"
     ]
    }
   ],
   "source": [
    "#Data that we have in our Dataset and the type of them\n",
    "data.info()"
   ]
  },
  {
   "cell_type": "code",
   "execution_count": 45,
   "id": "123811ae-af72-4391-bc9b-ed6d8e1fa195",
   "metadata": {},
   "outputs": [
    {
     "name": "stdout",
     "output_type": "stream",
     "text": [
      "Index(['Age', 'Gender', 'Weight(kg)', 'Height(m)', 'Max_BPM', 'Avg_BPM',\n",
      "       'Resting_BPM', 'Session_Duration(hours)', 'Calories_Burned',\n",
      "       'Workout_Type', 'Fat_Percentage', 'Water_Intake(liters)',\n",
      "       'Workout_Frequency(days/week)', 'Experience_Level', 'BMI'],\n",
      "      dtype='object')\n"
     ]
    }
   ],
   "source": [
    "#Show all the columns in our Dataset\n",
    "print(data.columns)"
   ]
  },
  {
   "cell_type": "code",
   "execution_count": 46,
   "id": "2c8826b6-5a70-4a9a-82c3-32371682fd0b",
   "metadata": {},
   "outputs": [],
   "source": [
    "#Method to put the name of the columns in lowercase and remove the blank spaces\n",
    "def clean_columns(col):\n",
    "    col = col.strip()\n",
    "    col = col.lower()\n",
    "    return col"
   ]
  },
  {
   "cell_type": "code",
   "execution_count": 47,
   "id": "27c0c7e0-c4bc-4925-a2eb-7b8b1fbd526c",
   "metadata": {},
   "outputs": [],
   "source": [
    "#Change the columns name\n",
    "new_columns = []\n",
    "for column in data.columns:\n",
    "    cleaned_column = clean_columns(column)\n",
    "    new_columns.append(cleaned_column.strip())\n",
    "\n",
    "data.columns = new_columns"
   ]
  },
  {
   "cell_type": "code",
   "execution_count": 48,
   "id": "ebf38e64-7506-4fa1-9f82-4967c9de34a0",
   "metadata": {},
   "outputs": [
    {
     "name": "stdout",
     "output_type": "stream",
     "text": [
      "<class 'pandas.core.frame.DataFrame'>\n",
      "RangeIndex: 973 entries, 0 to 972\n",
      "Data columns (total 15 columns):\n",
      " #   Column                        Non-Null Count  Dtype  \n",
      "---  ------                        --------------  -----  \n",
      " 0   age                           973 non-null    int64  \n",
      " 1   gender                        973 non-null    object \n",
      " 2   weight(kg)                    973 non-null    float64\n",
      " 3   height(m)                     973 non-null    float64\n",
      " 4   max_bpm                       973 non-null    int64  \n",
      " 5   avg_bpm                       973 non-null    int64  \n",
      " 6   resting_bpm                   973 non-null    int64  \n",
      " 7   session_duration(hours)       973 non-null    float64\n",
      " 8   calories_burned               973 non-null    float64\n",
      " 9   workout_type                  973 non-null    object \n",
      " 10  fat_percentage                973 non-null    float64\n",
      " 11  water_intake(liters)          973 non-null    float64\n",
      " 12  workout_frequency(days/week)  973 non-null    int64  \n",
      " 13  experience_level              973 non-null    int64  \n",
      " 14  bmi                           973 non-null    float64\n",
      "dtypes: float64(7), int64(6), object(2)\n",
      "memory usage: 114.2+ KB\n"
     ]
    }
   ],
   "source": [
    "#Discover information about our Dataset\n",
    "data.info()"
   ]
  },
  {
   "cell_type": "code",
   "execution_count": 49,
   "id": "c4c27092-d4e6-4fc3-8767-0014566f129c",
   "metadata": {},
   "outputs": [
    {
     "name": "stdout",
     "output_type": "stream",
     "text": [
      "age                             0\n",
      "gender                          0\n",
      "weight(kg)                      0\n",
      "height(m)                       0\n",
      "max_bpm                         0\n",
      "avg_bpm                         0\n",
      "resting_bpm                     0\n",
      "session_duration(hours)         0\n",
      "calories_burned                 0\n",
      "workout_type                    0\n",
      "fat_percentage                  0\n",
      "water_intake(liters)            0\n",
      "workout_frequency(days/week)    0\n",
      "experience_level                0\n",
      "bmi                             0\n",
      "dtype: int64\n"
     ]
    }
   ],
   "source": [
    "#Print to know the null values\n",
    "print(data.isnull().sum())"
   ]
  },
  {
   "cell_type": "markdown",
   "id": "8b67020a-a098-4407-8f85-c2ae5a127311",
   "metadata": {},
   "source": [
    "As shown above, in our Dataset we **don't have null values**."
   ]
  },
  {
   "cell_type": "markdown",
   "id": "58bcb0b1-9d34-46b2-a3ba-768430ea7103",
   "metadata": {},
   "source": [
    "## <center>Columns Name</center>"
   ]
  },
  {
   "cell_type": "code",
   "execution_count": 59,
   "id": "fb911690-ca52-4425-a9f4-12ceb161293a",
   "metadata": {},
   "outputs": [],
   "source": [
    "#Rename columns to indicate the unit of measurement\n",
    "data.rename({\"Age\": \"age\"}, axis=1, inplace=True)\n",
    "data.rename({\"Gender\": \"gender\"}, axis=1, inplace=True)\n",
    "data.rename({\"weight(kg)\": \"weight_kg\"}, axis=1, inplace=True)\n",
    "data.rename({\"height(m)\": \"height_m\"}, axis=1, inplace=True)\n",
    "data.rename({\"Max_BPM\": \"max_bpm\"}, axis=1, inplace=True)\n",
    "data.rename({\"Avg_BPM\": \"avg_bpm\"}, axis=1, inplace=True)\n",
    "data.rename({\"Resting_BPM\": \"resting_bpm\"}, axis=1, inplace=True)\n",
    "data.rename({\"session_duration(hours)\": \"duration_h\"}, axis=1, inplace=True)\n",
    "data.rename({\"Calories_Burned\": \"calories_burned\"}, axis=1, inplace=True)\n",
    "data.rename({\"Workout_Type\": \"workout\"}, axis=1, inplace=True)\n",
    "data.rename({\"Fat_Percentage\": \"fat_percentage\"}, axis=1, inplace=True)\n",
    "data.rename({\"Workout_Type\": \"workout\"}, axis=1, inplace=True)\n",
    "data.rename({\"Fat_Percentage\": \"fat_percentage\"}, axis=1, inplace=True)\n",
    "data.rename({\"water_intake(liters)\": \"water_l\"}, axis=1, inplace=True)\n",
    "data.rename({\"workout_frequency(days/week)\": \"workout_frequency_daysweek\"}, axis=1, inplace=True)\n",
    "data.rename({\"Experience_Level\": \"experience_lever\"}, axis=1, inplace=True)\n",
    "data.rename({\"BMI\": \"bmi\"}, axis=1, inplace=True)"
   ]
  },
  {
   "cell_type": "code",
   "execution_count": 51,
   "id": "f9886d85-f22d-4cc1-b277-f39385fecdd5",
   "metadata": {},
   "outputs": [
    {
     "data": {
      "text/plain": [
       "Index(['age', 'gender', 'weight_kg', 'height_m', 'max_bpm', 'avg_bpm',\n",
       "       'resting_bpm', 'duration_h', 'calories_burned', 'workout_type',\n",
       "       'fat_percentage', 'water_l', 'workout_frequency_daysweek',\n",
       "       'experience_level', 'bmi'],\n",
       "      dtype='object')"
      ]
     },
     "execution_count": 51,
     "metadata": {},
     "output_type": "execute_result"
    }
   ],
   "source": [
    "#Show all the columns with the names renamed\n",
    "data.columns"
   ]
  },
  {
   "cell_type": "markdown",
   "id": "200743c7-cefa-48aa-b9e5-e1c3c50e7185",
   "metadata": {},
   "source": [
    "Above we have **all the columns names** in our dataset."
   ]
  },
  {
   "cell_type": "code",
   "execution_count": 56,
   "id": "e40a5984-4d3a-4c5c-86aa-0b1920f52ba7",
   "metadata": {},
   "outputs": [
    {
     "data": {
      "text/plain": [
       "age                             int32\n",
       "gender                         object\n",
       "weight_kg                     float64\n",
       "height_m                      float64\n",
       "max_bpm                         int64\n",
       "avg_bpm                         int64\n",
       "resting_bpm                     int64\n",
       "duration_h                    float64\n",
       "calories_burned               float64\n",
       "workout_type                   object\n",
       "fat_percentage                float64\n",
       "water_l                       float64\n",
       "workout_frequency_daysweek      int64\n",
       "experience_level                int64\n",
       "bmi                           float64\n",
       "dtype: object"
      ]
     },
     "execution_count": 56,
     "metadata": {},
     "output_type": "execute_result"
    }
   ],
   "source": [
    "#Show dtypes of each column\n",
    "data.dtypes"
   ]
  },
  {
   "cell_type": "code",
   "execution_count": 53,
   "id": "fd000795-d623-4344-8372-c65762354df5",
   "metadata": {},
   "outputs": [
    {
     "name": "stdout",
     "output_type": "stream",
     "text": [
      "`age` dtype: int64\n",
      "`age` dtype: int32\n",
      "age                             int32\n",
      "gender                         object\n",
      "weight_kg                     float64\n",
      "height_m                      float64\n",
      "max_bpm                         int64\n",
      "avg_bpm                         int64\n",
      "resting_bpm                     int64\n",
      "duration_h                    float64\n",
      "calories_burned               float64\n",
      "workout_type                   object\n",
      "fat_percentage                float64\n",
      "water_l                       float64\n",
      "workout_frequency_daysweek      int64\n",
      "experience_level                int64\n",
      "bmi                           float64\n",
      "dtype: object\n"
     ]
    }
   ],
   "source": [
    "#Show age dtype\n",
    "print(\"`age` dtype:\", data[\"age\"].dtype)\n",
    "\n",
    "#Change dtype of the column age\n",
    "data[\"age\"] = data[\"age\"].astype(int)\n",
    "\n",
    "#Verifying if the change worked well\n",
    "print(\"`age` dtype:\", data[\"age\"].dtype)\n",
    "\n",
    "#Show all the columns with the dtypes changes\n",
    "print(data.dtypes)"
   ]
  },
  {
   "cell_type": "code",
   "execution_count": 58,
   "id": "5cd57c9f-65c0-4f83-9dc3-8e1eb05f65fd",
   "metadata": {},
   "outputs": [
    {
     "name": "stdout",
     "output_type": "stream",
     "text": [
      "['Yoga' 'HIIT' 'Cardio' 'Strength']\n"
     ]
    }
   ],
   "source": [
    "#Print the workout types\n",
    "unique_workout = data[\"workout_type\"].unique()\n",
    "print(unique_workout)"
   ]
  },
  {
   "cell_type": "markdown",
   "id": "d7d89b34-ec25-499a-ae91-82f0aa114d7a",
   "metadata": {},
   "source": [
    "Above we have **all the workout types** in our dataset."
   ]
  },
  {
   "cell_type": "code",
   "execution_count": 55,
   "id": "0bac6490-7920-4982-a20f-4d2755421cc4",
   "metadata": {},
   "outputs": [],
   "source": [
    "#Code to export our cleaned Dataset\n",
    "data.to_csv(\"gym_activity_cleaned.csv\", index=False)"
   ]
  }
 ],
 "metadata": {
  "kernelspec": {
   "display_name": "Python 3 (ipykernel)",
   "language": "python",
   "name": "python3"
  },
  "language_info": {
   "codemirror_mode": {
    "name": "ipython",
    "version": 3
   },
   "file_extension": ".py",
   "mimetype": "text/x-python",
   "name": "python",
   "nbconvert_exporter": "python",
   "pygments_lexer": "ipython3",
   "version": "3.11.7"
  }
 },
 "nbformat": 4,
 "nbformat_minor": 5
}
